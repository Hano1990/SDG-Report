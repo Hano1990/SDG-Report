{
 "cells": [
  {
   "cell_type": "markdown",
   "id": "b65dc7f7",
   "metadata": {},
   "source": [
    "# Table of Contents\n",
    "### 01. Visualization and Data Library Importation\n",
    "### 02. Importing dataframe\n",
    "### 03. Data prep for regression analysis\n",
    "### 04. Regression analysis"
   ]
  },
  {
   "cell_type": "markdown",
   "id": "6499f297",
   "metadata": {},
   "source": [
    "### 01. Visualization and Data Library Importation"
   ]
  },
  {
   "cell_type": "code",
   "execution_count": 1,
   "id": "f75eb1ad",
   "metadata": {},
   "outputs": [],
   "source": [
    "# Importing libraries\n",
    "import pandas as pd\n",
    "import numpy as np\n",
    "import seaborn as sns\n",
    "import matplotlib\n",
    "import matplotlib.pyplot as plt\n",
    "import os\n",
    "import sklearn\n",
    "from sklearn.model_selection import train_test_split \n",
    "from sklearn.linear_model import LinearRegression\n",
    "from sklearn.metrics import mean_squared_error, r2_score"
   ]
  },
  {
   "cell_type": "code",
   "execution_count": 2,
   "id": "4faa40c5",
   "metadata": {},
   "outputs": [],
   "source": [
    "# Masking the warnings\n",
    "import warnings\n",
    "warnings.filterwarnings(\"ignore\")"
   ]
  },
  {
   "cell_type": "code",
   "execution_count": 3,
   "id": "527dbe86",
   "metadata": {},
   "outputs": [],
   "source": [
    "# This option ensures that the graphs you create are displayed within the notebook without the need to \"call\" them specifically.\n",
    "\n",
    "%matplotlib inline"
   ]
  },
  {
   "cell_type": "markdown",
   "id": "c760e65d",
   "metadata": {},
   "source": [
    "### 02. Importing dataframe"
   ]
  },
  {
   "cell_type": "code",
   "execution_count": 4,
   "id": "e2a33ffb",
   "metadata": {},
   "outputs": [
    {
     "data": {
      "text/html": [
       "<div>\n",
       "<style scoped>\n",
       "    .dataframe tbody tr th:only-of-type {\n",
       "        vertical-align: middle;\n",
       "    }\n",
       "\n",
       "    .dataframe tbody tr th {\n",
       "        vertical-align: top;\n",
       "    }\n",
       "\n",
       "    .dataframe thead th {\n",
       "        text-align: right;\n",
       "    }\n",
       "</style>\n",
       "<table border=\"1\" class=\"dataframe\">\n",
       "  <thead>\n",
       "    <tr style=\"text-align: right;\">\n",
       "      <th></th>\n",
       "      <th>country_code</th>\n",
       "      <th>country</th>\n",
       "      <th>year</th>\n",
       "      <th>overall_score</th>\n",
       "      <th>No Poverty</th>\n",
       "      <th>Zero Hunger</th>\n",
       "      <th>Good Health and Wellbeing</th>\n",
       "      <th>Quality Education</th>\n",
       "      <th>Gender Equality</th>\n",
       "      <th>Clean Water and Sanitation</th>\n",
       "      <th>...</th>\n",
       "      <th>Industry, Innovation and Infrastructure</th>\n",
       "      <th>Reduced Inequalities</th>\n",
       "      <th>Sustainable Cities and Communities</th>\n",
       "      <th>Responsible Consumption and Production</th>\n",
       "      <th>Climate Action</th>\n",
       "      <th>Life Below Water</th>\n",
       "      <th>Life on Land</th>\n",
       "      <th>Peace, Justice and Strong Institutions</th>\n",
       "      <th>Partnerships for the Goals</th>\n",
       "      <th>No Poverty category</th>\n",
       "    </tr>\n",
       "  </thead>\n",
       "  <tbody>\n",
       "    <tr>\n",
       "      <th>0</th>\n",
       "      <td>AFG</td>\n",
       "      <td>Afghanistan</td>\n",
       "      <td>2000</td>\n",
       "      <td>36.0</td>\n",
       "      <td>28.8</td>\n",
       "      <td>27.3</td>\n",
       "      <td>19.2</td>\n",
       "      <td>1.6</td>\n",
       "      <td>20.8</td>\n",
       "      <td>32.4</td>\n",
       "      <td>...</td>\n",
       "      <td>5.2</td>\n",
       "      <td>0.0</td>\n",
       "      <td>25.8</td>\n",
       "      <td>94.7</td>\n",
       "      <td>99.4</td>\n",
       "      <td>0.0</td>\n",
       "      <td>51.9</td>\n",
       "      <td>39.2</td>\n",
       "      <td>34.2</td>\n",
       "      <td>Middle No Poverty</td>\n",
       "    </tr>\n",
       "    <tr>\n",
       "      <th>1</th>\n",
       "      <td>AFG</td>\n",
       "      <td>Afghanistan</td>\n",
       "      <td>2001</td>\n",
       "      <td>36.3</td>\n",
       "      <td>28.8</td>\n",
       "      <td>30.6</td>\n",
       "      <td>19.4</td>\n",
       "      <td>1.6</td>\n",
       "      <td>20.8</td>\n",
       "      <td>32.4</td>\n",
       "      <td>...</td>\n",
       "      <td>5.2</td>\n",
       "      <td>0.0</td>\n",
       "      <td>25.8</td>\n",
       "      <td>94.5</td>\n",
       "      <td>99.4</td>\n",
       "      <td>0.0</td>\n",
       "      <td>51.9</td>\n",
       "      <td>39.2</td>\n",
       "      <td>34.2</td>\n",
       "      <td>Middle No Poverty</td>\n",
       "    </tr>\n",
       "    <tr>\n",
       "      <th>2</th>\n",
       "      <td>AFG</td>\n",
       "      <td>Afghanistan</td>\n",
       "      <td>2002</td>\n",
       "      <td>36.3</td>\n",
       "      <td>28.8</td>\n",
       "      <td>30.7</td>\n",
       "      <td>19.7</td>\n",
       "      <td>1.6</td>\n",
       "      <td>20.8</td>\n",
       "      <td>32.7</td>\n",
       "      <td>...</td>\n",
       "      <td>5.2</td>\n",
       "      <td>0.0</td>\n",
       "      <td>26.1</td>\n",
       "      <td>94.1</td>\n",
       "      <td>99.4</td>\n",
       "      <td>0.0</td>\n",
       "      <td>51.8</td>\n",
       "      <td>39.2</td>\n",
       "      <td>34.2</td>\n",
       "      <td>Middle No Poverty</td>\n",
       "    </tr>\n",
       "    <tr>\n",
       "      <th>3</th>\n",
       "      <td>AFG</td>\n",
       "      <td>Afghanistan</td>\n",
       "      <td>2003</td>\n",
       "      <td>36.7</td>\n",
       "      <td>28.8</td>\n",
       "      <td>32.5</td>\n",
       "      <td>19.9</td>\n",
       "      <td>1.6</td>\n",
       "      <td>20.8</td>\n",
       "      <td>33.0</td>\n",
       "      <td>...</td>\n",
       "      <td>5.2</td>\n",
       "      <td>0.0</td>\n",
       "      <td>26.5</td>\n",
       "      <td>94.4</td>\n",
       "      <td>99.4</td>\n",
       "      <td>0.0</td>\n",
       "      <td>51.8</td>\n",
       "      <td>39.2</td>\n",
       "      <td>34.2</td>\n",
       "      <td>Middle No Poverty</td>\n",
       "    </tr>\n",
       "    <tr>\n",
       "      <th>4</th>\n",
       "      <td>AFG</td>\n",
       "      <td>Afghanistan</td>\n",
       "      <td>2004</td>\n",
       "      <td>37.1</td>\n",
       "      <td>28.8</td>\n",
       "      <td>32.1</td>\n",
       "      <td>21.1</td>\n",
       "      <td>1.6</td>\n",
       "      <td>20.8</td>\n",
       "      <td>33.3</td>\n",
       "      <td>...</td>\n",
       "      <td>5.2</td>\n",
       "      <td>0.0</td>\n",
       "      <td>26.8</td>\n",
       "      <td>94.8</td>\n",
       "      <td>99.4</td>\n",
       "      <td>0.0</td>\n",
       "      <td>51.8</td>\n",
       "      <td>39.2</td>\n",
       "      <td>34.2</td>\n",
       "      <td>Middle No Poverty</td>\n",
       "    </tr>\n",
       "  </tbody>\n",
       "</table>\n",
       "<p>5 rows × 22 columns</p>\n",
       "</div>"
      ],
      "text/plain": [
       "  country_code      country  year  overall_score  No Poverty  Zero Hunger  \\\n",
       "0          AFG  Afghanistan  2000           36.0        28.8         27.3   \n",
       "1          AFG  Afghanistan  2001           36.3        28.8         30.6   \n",
       "2          AFG  Afghanistan  2002           36.3        28.8         30.7   \n",
       "3          AFG  Afghanistan  2003           36.7        28.8         32.5   \n",
       "4          AFG  Afghanistan  2004           37.1        28.8         32.1   \n",
       "\n",
       "   Good Health and Wellbeing  Quality Education  Gender Equality  \\\n",
       "0                       19.2                1.6             20.8   \n",
       "1                       19.4                1.6             20.8   \n",
       "2                       19.7                1.6             20.8   \n",
       "3                       19.9                1.6             20.8   \n",
       "4                       21.1                1.6             20.8   \n",
       "\n",
       "   Clean Water and Sanitation  ...  Industry, Innovation and Infrastructure  \\\n",
       "0                        32.4  ...                                      5.2   \n",
       "1                        32.4  ...                                      5.2   \n",
       "2                        32.7  ...                                      5.2   \n",
       "3                        33.0  ...                                      5.2   \n",
       "4                        33.3  ...                                      5.2   \n",
       "\n",
       "   Reduced Inequalities  Sustainable Cities and Communities  \\\n",
       "0                   0.0                                25.8   \n",
       "1                   0.0                                25.8   \n",
       "2                   0.0                                26.1   \n",
       "3                   0.0                                26.5   \n",
       "4                   0.0                                26.8   \n",
       "\n",
       "   Responsible Consumption and Production  Climate Action  Life Below Water  \\\n",
       "0                                    94.7            99.4               0.0   \n",
       "1                                    94.5            99.4               0.0   \n",
       "2                                    94.1            99.4               0.0   \n",
       "3                                    94.4            99.4               0.0   \n",
       "4                                    94.8            99.4               0.0   \n",
       "\n",
       "   Life on Land  Peace, Justice and Strong Institutions  \\\n",
       "0          51.9                                    39.2   \n",
       "1          51.9                                    39.2   \n",
       "2          51.8                                    39.2   \n",
       "3          51.8                                    39.2   \n",
       "4          51.8                                    39.2   \n",
       "\n",
       "   Partnerships for the Goals  No Poverty category  \n",
       "0                        34.2    Middle No Poverty  \n",
       "1                        34.2    Middle No Poverty  \n",
       "2                        34.2    Middle No Poverty  \n",
       "3                        34.2    Middle No Poverty  \n",
       "4                        34.2    Middle No Poverty  \n",
       "\n",
       "[5 rows x 22 columns]"
      ]
     },
     "execution_count": 4,
     "metadata": {},
     "output_type": "execute_result"
    }
   ],
   "source": [
    "# Importing sdg_merged dataframe\n",
    "sdg_merged=pd.read_csv(('../02 Data/Prepared Data/sdg merged wrengled.csv'),index_col=0)\n",
    "sdg_merged.head()"
   ]
  },
  {
   "cell_type": "markdown",
   "id": "17e5f56b",
   "metadata": {},
   "source": [
    "# Hypothesis\n",
    "#### If a Country has high Industry, Innovation and Infrastructure goal, there will be higher chance in devoloping stablizers and emergency plans during crises."
   ]
  },
  {
   "cell_type": "markdown",
   "id": "744ef01d",
   "metadata": {},
   "source": [
    "### 3. Data prep for regression analysis"
   ]
  },
  {
   "cell_type": "code",
   "execution_count": 6,
   "id": "33dbd13b",
   "metadata": {},
   "outputs": [
    {
     "data": {
      "image/png": "[encoded data removed]",
      "text/plain": [
       "<Figure size 640x480 with 1 Axes>"
      ]
     },
     "metadata": {},
     "output_type": "display_data"
    }
   ],
   "source": [
    "# Create a scatterplot using matplotlib for another look at how the chosen variables plot against each other.\n",
    "\n",
    "sdg_merged.plot(x = 'Industry, Innovation and Infrastructure', y='overall_score',style='o') # The style option creates a scatterplot; without it, we only have lines.\n",
    "plt.title('Industry, Innovation and Infrastructure vs Overall Score')  \n",
    "plt.xlabel('Industry, Innovation and Infrastructure')  \n",
    "plt.ylabel('overall_score')  \n",
    "plt.show()"
   ]
  },
  {
   "cell_type": "code",
   "execution_count": 7,
   "id": "576269b9",
   "metadata": {},
   "outputs": [],
   "source": [
    "# Reshape the variables into NumPy arrays and put them into separate objects.\n",
    "\n",
    "X = sdg_merged['Industry, Innovation and Infrastructure'].values.reshape(-1,1)\n",
    "y = sdg_merged['overall_score'].values.reshape(-1,1)"
   ]
  },
  {
   "cell_type": "code",
   "execution_count": 8,
   "id": "8ca0d663",
   "metadata": {},
   "outputs": [
    {
     "data": {
      "text/plain": [
       "array([[ 5.2       ],\n",
       "       [ 5.2       ],\n",
       "       [ 5.2       ],\n",
       "       ...,\n",
       "       [15.40028571],\n",
       "       [ 5.59985714],\n",
       "       [14.22371429]])"
      ]
     },
     "execution_count": 8,
     "metadata": {},
     "output_type": "execute_result"
    }
   ],
   "source": [
    "X"
   ]
  },
  {
   "cell_type": "code",
   "execution_count": 9,
   "id": "b540f937",
   "metadata": {},
   "outputs": [
    {
     "data": {
      "text/plain": [
       "array([[36.        ],\n",
       "       [36.3       ],\n",
       "       [36.3       ],\n",
       "       ...,\n",
       "       [48.5525944 ],\n",
       "       [48.02723119],\n",
       "       [46.84698025]])"
      ]
     },
     "execution_count": 9,
     "metadata": {},
     "output_type": "execute_result"
    }
   ],
   "source": [
    "y"
   ]
  },
  {
   "cell_type": "code",
   "execution_count": 10,
   "id": "d27fd624",
   "metadata": {},
   "outputs": [],
   "source": [
    "# Split data into a training set and a test set.\n",
    "\n",
    "X_train, X_test, y_train, y_test = train_test_split(X, y, test_size=0.3, random_state=0)"
   ]
  },
  {
   "cell_type": "markdown",
   "id": "5e1bab3c",
   "metadata": {},
   "source": [
    "### 4. Regression analysis"
   ]
  },
  {
   "cell_type": "code",
   "execution_count": 11,
   "id": "619ddc9b",
   "metadata": {},
   "outputs": [],
   "source": [
    "# Create a regression object.\n",
    "\n",
    "regression = LinearRegression()  # This is the regression object, which will be fit onto the training set."
   ]
  },
  {
   "cell_type": "code",
   "execution_count": 12,
   "id": "c77bb613",
   "metadata": {},
   "outputs": [
    {
     "data": {
      "text/html": [
       "<style>#sk-container-id-1 {color: black;background-color: white;}#sk-container-id-1 pre{padding: 0;}#sk-container-id-1 div.sk-toggleable {background-color: white;}#sk-container-id-1 label.sk-toggleable__label {cursor: pointer;display: block;width: 100%;margin-bottom: 0;padding: 0.3em;box-sizing: border-box;text-align: center;}#sk-container-id-1 label.sk-toggleable__label-arrow:before {content: \"▸\";float: left;margin-right: 0.25em;color: #696969;}#sk-container-id-1 label.sk-toggleable__label-arrow:hover:before {color: black;}#sk-container-id-1 div.sk-estimator:hover label.sk-toggleable__label-arrow:before {color: black;}#sk-container-id-1 div.sk-toggleable__content {max-height: 0;max-width: 0;overflow: hidden;text-align: left;background-color: #f0f8ff;}#sk-container-id-1 div.sk-toggleable__content pre {margin: 0.2em;color: black;border-radius: 0.25em;background-color: #f0f8ff;}#sk-container-id-1 input.sk-toggleable__control:checked~div.sk-toggleable__content {max-height: 200px;max-width: 100%;overflow: auto;}#sk-container-id-1 input.sk-toggleable__control:checked~label.sk-toggleable__label-arrow:before {content: \"▾\";}#sk-container-id-1 div.sk-estimator input.sk-toggleable__control:checked~label.sk-toggleable__label {background-color: #d4ebff;}#sk-container-id-1 div.sk-label input.sk-toggleable__control:checked~label.sk-toggleable__label {background-color: #d4ebff;}#sk-container-id-1 input.sk-hidden--visually {border: 0;clip: rect(1px 1px 1px 1px);clip: rect(1px, 1px, 1px, 1px);height: 1px;margin: -1px;overflow: hidden;padding: 0;position: absolute;width: 1px;}#sk-container-id-1 div.sk-estimator {font-family: monospace;background-color: #f0f8ff;border: 1px dotted black;border-radius: 0.25em;box-sizing: border-box;margin-bottom: 0.5em;}#sk-container-id-1 div.sk-estimator:hover {background-color: #d4ebff;}#sk-container-id-1 div.sk-parallel-item::after {content: \"\";width: 100%;border-bottom: 1px solid gray;flex-grow: 1;}#sk-container-id-1 div.sk-label:hover label.sk-toggleable__label {background-color: #d4ebff;}#sk-container-id-1 div.sk-serial::before {content: \"\";position: absolute;border-left: 1px solid gray;box-sizing: border-box;top: 0;bottom: 0;left: 50%;z-index: 0;}#sk-container-id-1 div.sk-serial {display: flex;flex-direction: column;align-items: center;background-color: white;padding-right: 0.2em;padding-left: 0.2em;position: relative;}#sk-container-id-1 div.sk-item {position: relative;z-index: 1;}#sk-container-id-1 div.sk-parallel {display: flex;align-items: stretch;justify-content: center;background-color: white;position: relative;}#sk-container-id-1 div.sk-item::before, #sk-container-id-1 div.sk-parallel-item::before {content: \"\";position: absolute;border-left: 1px solid gray;box-sizing: border-box;top: 0;bottom: 0;left: 50%;z-index: -1;}#sk-container-id-1 div.sk-parallel-item {display: flex;flex-direction: column;z-index: 1;position: relative;background-color: white;}#sk-container-id-1 div.sk-parallel-item:first-child::after {align-self: flex-end;width: 50%;}#sk-container-id-1 div.sk-parallel-item:last-child::after {align-self: flex-start;width: 50%;}#sk-container-id-1 div.sk-parallel-item:only-child::after {width: 0;}#sk-container-id-1 div.sk-dashed-wrapped {border: 1px dashed gray;margin: 0 0.4em 0.5em 0.4em;box-sizing: border-box;padding-bottom: 0.4em;background-color: white;}#sk-container-id-1 div.sk-label label {font-family: monospace;font-weight: bold;display: inline-block;line-height: 1.2em;}#sk-container-id-1 div.sk-label-container {text-align: center;}#sk-container-id-1 div.sk-container {/* jupyter's `normalize.less` sets `[hidden] { display: none; }` but bootstrap.min.css set `[hidden] { display: none !important; }` so we also need the `!important` here to be able to override the default hidden behavior on the sphinx rendered scikit-learn.org. See: https://github.com/scikit-learn/scikit-learn/issues/21755 */display: inline-block !important;position: relative;}#sk-container-id-1 div.sk-text-repr-fallback {display: none;}</style><div id=\"sk-container-id-1\" class=\"sk-top-container\"><div class=\"sk-text-repr-fallback\"><pre>LinearRegression()</pre><b>In a Jupyter environment, please rerun this cell to show the HTML representation or trust the notebook. <br />On GitHub, the HTML representation is unable to render, please try loading this page with nbviewer.org.</b></div><div class=\"sk-container\" hidden><div class=\"sk-item\"><div class=\"sk-estimator sk-toggleable\"><input class=\"sk-toggleable__control sk-hidden--visually\" id=\"sk-estimator-id-1\" type=\"checkbox\" checked><label for=\"sk-estimator-id-1\" class=\"sk-toggleable__label sk-toggleable__label-arrow\">LinearRegression</label><div class=\"sk-toggleable__content\"><pre>LinearRegression()</pre></div></div></div></div></div>"
      ],
      "text/plain": [
       "LinearRegression()"
      ]
     },
     "execution_count": 12,
     "metadata": {},
     "output_type": "execute_result"
    }
   ],
   "source": [
    "# Fit the regression object onto the training set.\n",
    "\n",
    "regression.fit(X_train, y_train)"
   ]
  },
  {
   "cell_type": "code",
   "execution_count": 13,
   "id": "c90a8778",
   "metadata": {},
   "outputs": [],
   "source": [
    "# Predict the values of y using X.\n",
    "\n",
    "y_predicted = regression.predict(X_test)"
   ]
  },
  {
   "cell_type": "code",
   "execution_count": 15,
   "id": "3b4d8e5f",
   "metadata": {},
   "outputs": [
    {
     "data": {
      "image/png": "[encoded data removed]",
      "text/plain": [
       "<Figure size 640x480 with 1 Axes>"
      ]
     },
     "metadata": {},
     "output_type": "display_data"
    }
   ],
   "source": [
    "# Create a plot that shows the regression line from the model on the test set.\n",
    "\n",
    "plot_test = plt\n",
    "plot_test.scatter(X_test, y_test, color='gray', s = 15)\n",
    "plot_test.plot(X_test, y_predicted, color='blue', linewidth =3)\n",
    "plot_test.title('Status of Industry, Innovation and Infrastructure vs Overall Score (Test set)')\n",
    "plot_test.xlabel('Industry, Innovation and Infrastructure Score')\n",
    "plot_test.ylabel('Overall Score')\n",
    "plot_test.show()"
   ]
  },
  {
   "cell_type": "code",
   "execution_count": 16,
   "id": "0c3644ff",
   "metadata": {},
   "outputs": [],
   "source": [
    "# Create objects that contain the model summary statistics.\n",
    "\n",
    "rmse = mean_squared_error(y_test, y_predicted) # This is the mean squared error\n",
    "r2 = r2_score(y_test, y_predicted) # This is the R2 score. "
   ]
  },
  {
   "cell_type": "code",
   "execution_count": 17,
   "id": "97274e87",
   "metadata": {},
   "outputs": [
    {
     "name": "stdout",
     "output_type": "stream",
     "text": [
      "Slope: [[0.33872861]]\n",
      "Mean squared error:  41.19229330871328\n",
      "R2 score:  0.6421781601197245\n"
     ]
    }
   ],
   "source": [
    "# Print the model summary statistics. This is where you evaluate the performance of the model.\n",
    "\n",
    "print('Slope:' ,regression.coef_)\n",
    "print('Mean squared error: ', rmse)\n",
    "print('R2 score: ', r2)"
   ]
  },
  {
   "cell_type": "markdown",
   "id": "51c87cbf",
   "metadata": {},
   "source": [
    "##### The regression line appears to have a positive regression which means the higher the Industry, Innovation and Infrastructure score is, the better the overall score gets. Additionally, by seeing the MSE  R2 values we could say that the regression line passes fairly close to the observations, making it a good fit."
   ]
  },
  {
   "cell_type": "code",
   "execution_count": 18,
   "id": "ec44067a",
   "metadata": {},
   "outputs": [
    {
     "data": {
      "text/plain": [
       "array([[54.99356566],\n",
       "       [66.0361183 ],\n",
       "       [68.50883714],\n",
       "       ...,\n",
       "       [69.01693005],\n",
       "       [56.75495442],\n",
       "       [77.45127241]])"
      ]
     },
     "execution_count": 18,
     "metadata": {},
     "output_type": "execute_result"
    }
   ],
   "source": [
    "y_predicted"
   ]
  },
  {
   "cell_type": "code",
   "execution_count": 19,
   "id": "cf0141fd",
   "metadata": {},
   "outputs": [
    {
     "data": {
      "text/html": [
       "<div>\n",
       "<style scoped>\n",
       "    .dataframe tbody tr th:only-of-type {\n",
       "        vertical-align: middle;\n",
       "    }\n",
       "\n",
       "    .dataframe tbody tr th {\n",
       "        vertical-align: top;\n",
       "    }\n",
       "\n",
       "    .dataframe thead th {\n",
       "        text-align: right;\n",
       "    }\n",
       "</style>\n",
       "<table border=\"1\" class=\"dataframe\">\n",
       "  <thead>\n",
       "    <tr style=\"text-align: right;\">\n",
       "      <th></th>\n",
       "      <th>Actual</th>\n",
       "      <th>Predicted</th>\n",
       "    </tr>\n",
       "  </thead>\n",
       "  <tbody>\n",
       "    <tr>\n",
       "      <th>0</th>\n",
       "      <td>65.500000</td>\n",
       "      <td>54.993566</td>\n",
       "    </tr>\n",
       "    <tr>\n",
       "      <th>1</th>\n",
       "      <td>73.700000</td>\n",
       "      <td>66.036118</td>\n",
       "    </tr>\n",
       "    <tr>\n",
       "      <th>2</th>\n",
       "      <td>77.900000</td>\n",
       "      <td>68.508837</td>\n",
       "    </tr>\n",
       "    <tr>\n",
       "      <th>3</th>\n",
       "      <td>63.400000</td>\n",
       "      <td>63.224671</td>\n",
       "    </tr>\n",
       "    <tr>\n",
       "      <th>4</th>\n",
       "      <td>54.800000</td>\n",
       "      <td>56.822700</td>\n",
       "    </tr>\n",
       "    <tr>\n",
       "      <th>5</th>\n",
       "      <td>76.500000</td>\n",
       "      <td>75.452774</td>\n",
       "    </tr>\n",
       "    <tr>\n",
       "      <th>6</th>\n",
       "      <td>69.401499</td>\n",
       "      <td>69.275041</td>\n",
       "    </tr>\n",
       "    <tr>\n",
       "      <th>7</th>\n",
       "      <td>54.800000</td>\n",
       "      <td>56.348480</td>\n",
       "    </tr>\n",
       "    <tr>\n",
       "      <th>8</th>\n",
       "      <td>68.900000</td>\n",
       "      <td>60.413223</td>\n",
       "    </tr>\n",
       "    <tr>\n",
       "      <th>9</th>\n",
       "      <td>67.700000</td>\n",
       "      <td>64.918314</td>\n",
       "    </tr>\n",
       "    <tr>\n",
       "      <th>10</th>\n",
       "      <td>62.000000</td>\n",
       "      <td>66.036118</td>\n",
       "    </tr>\n",
       "    <tr>\n",
       "      <th>11</th>\n",
       "      <td>81.500000</td>\n",
       "      <td>82.024109</td>\n",
       "    </tr>\n",
       "    <tr>\n",
       "      <th>12</th>\n",
       "      <td>49.100000</td>\n",
       "      <td>56.382353</td>\n",
       "    </tr>\n",
       "    <tr>\n",
       "      <th>13</th>\n",
       "      <td>46.500000</td>\n",
       "      <td>54.824201</td>\n",
       "    </tr>\n",
       "    <tr>\n",
       "      <th>14</th>\n",
       "      <td>47.900000</td>\n",
       "      <td>54.011253</td>\n",
       "    </tr>\n",
       "    <tr>\n",
       "      <th>15</th>\n",
       "      <td>65.500000</td>\n",
       "      <td>60.819698</td>\n",
       "    </tr>\n",
       "    <tr>\n",
       "      <th>16</th>\n",
       "      <td>37.200000</td>\n",
       "      <td>51.030441</td>\n",
       "    </tr>\n",
       "    <tr>\n",
       "      <th>17</th>\n",
       "      <td>71.500000</td>\n",
       "      <td>67.052304</td>\n",
       "    </tr>\n",
       "    <tr>\n",
       "      <th>18</th>\n",
       "      <td>46.900000</td>\n",
       "      <td>54.011253</td>\n",
       "    </tr>\n",
       "    <tr>\n",
       "      <th>19</th>\n",
       "      <td>47.900000</td>\n",
       "      <td>54.078998</td>\n",
       "    </tr>\n",
       "    <tr>\n",
       "      <th>20</th>\n",
       "      <td>70.500000</td>\n",
       "      <td>67.594270</td>\n",
       "    </tr>\n",
       "    <tr>\n",
       "      <th>21</th>\n",
       "      <td>47.800000</td>\n",
       "      <td>52.825703</td>\n",
       "    </tr>\n",
       "    <tr>\n",
       "      <th>22</th>\n",
       "      <td>74.800000</td>\n",
       "      <td>60.142241</td>\n",
       "    </tr>\n",
       "    <tr>\n",
       "      <th>23</th>\n",
       "      <td>52.800000</td>\n",
       "      <td>57.805013</td>\n",
       "    </tr>\n",
       "    <tr>\n",
       "      <th>24</th>\n",
       "      <td>51.300000</td>\n",
       "      <td>56.145243</td>\n",
       "    </tr>\n",
       "    <tr>\n",
       "      <th>25</th>\n",
       "      <td>66.600000</td>\n",
       "      <td>63.902128</td>\n",
       "    </tr>\n",
       "    <tr>\n",
       "      <th>26</th>\n",
       "      <td>50.900000</td>\n",
       "      <td>55.366167</td>\n",
       "    </tr>\n",
       "    <tr>\n",
       "      <th>27</th>\n",
       "      <td>61.000000</td>\n",
       "      <td>56.348480</td>\n",
       "    </tr>\n",
       "    <tr>\n",
       "      <th>28</th>\n",
       "      <td>55.700000</td>\n",
       "      <td>58.109869</td>\n",
       "    </tr>\n",
       "    <tr>\n",
       "      <th>29</th>\n",
       "      <td>67.900000</td>\n",
       "      <td>64.206984</td>\n",
       "    </tr>\n",
       "  </tbody>\n",
       "</table>\n",
       "</div>"
      ],
      "text/plain": [
       "       Actual  Predicted\n",
       "0   65.500000  54.993566\n",
       "1   73.700000  66.036118\n",
       "2   77.900000  68.508837\n",
       "3   63.400000  63.224671\n",
       "4   54.800000  56.822700\n",
       "5   76.500000  75.452774\n",
       "6   69.401499  69.275041\n",
       "7   54.800000  56.348480\n",
       "8   68.900000  60.413223\n",
       "9   67.700000  64.918314\n",
       "10  62.000000  66.036118\n",
       "11  81.500000  82.024109\n",
       "12  49.100000  56.382353\n",
       "13  46.500000  54.824201\n",
       "14  47.900000  54.011253\n",
       "15  65.500000  60.819698\n",
       "16  37.200000  51.030441\n",
       "17  71.500000  67.052304\n",
       "18  46.900000  54.011253\n",
       "19  47.900000  54.078998\n",
       "20  70.500000  67.594270\n",
       "21  47.800000  52.825703\n",
       "22  74.800000  60.142241\n",
       "23  52.800000  57.805013\n",
       "24  51.300000  56.145243\n",
       "25  66.600000  63.902128\n",
       "26  50.900000  55.366167\n",
       "27  61.000000  56.348480\n",
       "28  55.700000  58.109869\n",
       "29  67.900000  64.206984"
      ]
     },
     "execution_count": 19,
     "metadata": {},
     "output_type": "execute_result"
    }
   ],
   "source": [
    "# Create a dataframe comparing the actual and predicted values of y.\n",
    "\n",
    "data = pd.DataFrame({'Actual': y_test.flatten(), 'Predicted': y_predicted.flatten()})\n",
    "data.head(30)"
   ]
  },
  {
   "cell_type": "markdown",
   "id": "a8ce8434",
   "metadata": {},
   "source": [
    "###### when comparing the predicted y values with the actual y values we can see how close the values are which give us an additional assurance that our model is working and give accurate prediction. I think this data gave me a logical answer to have a good sastainability development goal plan. as for biases there could be some countries that are not included in this data so we don't know thier sastainability developement status which might shift our point of view for the above Hypothesis.\n",
    "\n",
    "\n"
   ]
  }
 ],
 "metadata": {
  "kernelspec": {
   "display_name": "Python 3 (ipykernel)",
   "language": "python",
   "name": "python3"
  },
  "language_info": {
   "codemirror_mode": {
    "name": "ipython",
    "version": 3
   },
   "file_extension": ".py",
   "mimetype": "text/x-python",
   "name": "python",
   "nbconvert_exporter": "python",
   "pygments_lexer": "ipython3",
   "version": "3.11.3"
  }
 },
 "nbformat": 4,
 "nbformat_minor": 5
}
